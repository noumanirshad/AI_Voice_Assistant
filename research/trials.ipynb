{
 "cells": [
  {
   "cell_type": "code",
   "execution_count": 2,
   "metadata": {},
   "outputs": [
    {
     "name": "stderr",
     "output_type": "stream",
     "text": [
      "e:\\All Courses\\Generative AI\\Basic_to_Advance_AI_Full_Course\\My Practices\\AI_Voice_Assistant\\myenv\\lib\\site-packages\\tqdm\\auto.py:21: TqdmWarning: IProgress not found. Please update jupyter and ipywidgets. See https://ipywidgets.readthedocs.io/en/stable/user_install.html\n",
      "  from .autonotebook import tqdm as notebook_tqdm\n"
     ]
    }
   ],
   "source": [
    "import speech_recognition as sr\n",
    "import google.generativeai as genai\n",
    "from dotenv import load_dotenv\n",
    "import os\n",
    "from gtts import gTTS"
   ]
  },
  {
   "cell_type": "code",
   "execution_count": 3,
   "metadata": {},
   "outputs": [
    {
     "name": "stdout",
     "output_type": "stream",
     "text": [
      "perfect!!\n"
     ]
    }
   ],
   "source": [
    "print(\"perfect!!\")\n",
    "load_dotenv()\n",
    "\n",
    "GOOGLE_API_KEY=os.getenv(\"GOOGLE_API_KEY\")\n",
    "os.environ[\"GOOGLE_API_KEY\"]=GOOGLE_API_KEY"
   ]
  },
  {
   "cell_type": "code",
   "execution_count": 6,
   "metadata": {},
   "outputs": [
    {
     "name": "stdout",
     "output_type": "stream",
     "text": [
      "listening...\n"
     ]
    }
   ],
   "source": [
    "r=sr.Recognizer()\n",
    "    \n",
    "with sr.Microphone() as source:\n",
    "    print(\"listening...\")\n",
    "    audio=r.listen(source)\n",
    "    print(audio)"
   ]
  },
  {
   "cell_type": "code",
   "execution_count": 7,
   "metadata": {},
   "outputs": [
    {
     "name": "stdout",
     "output_type": "stream",
     "text": [
      "<speech_recognition.audio.AudioData object at 0x000001DD25456040>\n"
     ]
    }
   ],
   "source": [
    "print(audio)"
   ]
  },
  {
   "cell_type": "code",
   "execution_count": 8,
   "metadata": {},
   "outputs": [
    {
     "name": "stdout",
     "output_type": "stream",
     "text": [
      "you said:  hello how are you\n"
     ]
    }
   ],
   "source": [
    "text=r.recognize_google(audio)\n",
    "print(\"you said: \", text)"
   ]
  },
  {
   "cell_type": "code",
   "execution_count": 16,
   "metadata": {},
   "outputs": [],
   "source": [
    "# Save the audio to a WAV file\n",
    "with open(\"user_input.wav\", \"wb\") as f:\n",
    "    f.write(audio.get_wav_data())\n",
    "\n",
    "# with open(\"recorded_audio.wav\", \"rb\") as f:\n",
    "#     audio_data = f.read()"
   ]
  },
  {
   "cell_type": "code",
   "execution_count": 15,
   "metadata": {},
   "outputs": [
    {
     "name": "stdout",
     "output_type": "stream",
     "text": [
      "I'm doing well, thank you for asking! How are you today? \n",
      "\n",
      "I'm always ready to chat and help with anything you need.  Is there anything I can assist you with today? \n"
     ]
    }
   ],
   "source": [
    "genai.configure(api_key=GOOGLE_API_KEY)\n",
    "    \n",
    "# model = genai.GenerativeModel('gemini-pro')\n",
    "model = genai.GenerativeModel('gemini-1.5-flash-8b-exp-0827')\n",
    "    \n",
    "response=model.generate_content(text)\n",
    "    \n",
    "result=response.text\n",
    "\n",
    "print(result)"
   ]
  },
  {
   "cell_type": "code",
   "execution_count": 18,
   "metadata": {},
   "outputs": [
    {
     "name": "stdout",
     "output_type": "stream",
     "text": [
      "Output converted into speech successfully\n"
     ]
    }
   ],
   "source": [
    "tts=gTTS(text=result, lang=\"en\")\n",
    "    \n",
    "#save the speech from the given text in the mp3 format\n",
    "tts.save(\"AI_output.mp3\")\n",
    "print(\"Output converted into speech successfully\")"
   ]
  },
  {
   "cell_type": "code",
   "execution_count": 9,
   "metadata": {},
   "outputs": [],
   "source": [
    "def voice_input():\n",
    "    r=sr.Recognizer()\n",
    "    \n",
    "    with sr.Microphone() as source:\n",
    "        print(\"listening...\")\n",
    "        audio=r.listen(source)\n",
    "    try:\n",
    "        text=r.recognize_google(audio)\n",
    "        print(\"you said: \", text)\n",
    "        return text\n",
    "    except sr.UnknownValueError:\n",
    "        print(\"sorry, could not understand the audio\")\n",
    "    except sr.RequestError as e:\n",
    "        print(\"could not request result from google speech recognition service: {0}\".format(e))\n",
    "\n",
    "def text_to_speech(text):\n",
    "    tts=gTTS(text=text, lang=\"en\")\n",
    "    \n",
    "    #save the speech from the given text in the mp3 format\n",
    "    tts.save(\"speech.mp3\")\n",
    "\n",
    "def llm_model_object(user_text):\n",
    "    #model = \"models/gemini-pro\"\n",
    "    \n",
    "    genai.configure(api_key=GOOGLE_API_KEY)\n",
    "    \n",
    "    # model = genai.GenerativeModel('gemini-pro')\n",
    "    model = genai.GenerativeModel('gemini-1.5-flash-8b-exp-0827')\n",
    "    \n",
    "    response=model.generate_content(user_text)\n",
    "    \n",
    "    result=response.text\n",
    "    "
   ]
  },
  {
   "cell_type": "code",
   "execution_count": null,
   "metadata": {},
   "outputs": [],
   "source": []
  },
  {
   "cell_type": "code",
   "execution_count": null,
   "metadata": {},
   "outputs": [],
   "source": []
  },
  {
   "cell_type": "code",
   "execution_count": null,
   "metadata": {},
   "outputs": [],
   "source": []
  }
 ],
 "metadata": {
  "kernelspec": {
   "display_name": "myenv",
   "language": "python",
   "name": "python3"
  },
  "language_info": {
   "codemirror_mode": {
    "name": "ipython",
    "version": 3
   },
   "file_extension": ".py",
   "mimetype": "text/x-python",
   "name": "python",
   "nbconvert_exporter": "python",
   "pygments_lexer": "ipython3",
   "version": "3.9.5"
  }
 },
 "nbformat": 4,
 "nbformat_minor": 2
}
